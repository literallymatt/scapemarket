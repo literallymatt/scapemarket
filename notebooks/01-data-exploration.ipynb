{
 "cells": [
  {
   "cell_type": "markdown",
   "metadata": {},
   "source": [
    "# 1. RuneScape Item Price Exploration\n",
    "\n",
    "This notebook is for exploring the raw price data collected from the OSRS Wiki API. The goal is to visualize the data, understand its properties, and get ideas for feature engineering."
   ]
  },
  {
   "cell_type": "code",
   "execution_count": null,
   "metadata": {},
   "outputs": [],
   "source": [
    "import pandas as pd\n",
    "import matplotlib.pyplot as plt\n",
    "import seaborn as sns\n",
    "from pathlib import Path\n",
    "\n",
    "# Set plot style\n",
    "sns.set_style('whitegrid')\n",
    "plt.rcParams['figure.figsize'] = (15, 7)"
   ]
  },
  {
   "cell_type": "markdown",
   "metadata": {},
   "source": [
    "## Load Data\n",
    "\n",
    "Let's load the data for a single item. We'll use the Twisted Bow as an example. The data is in JSON format, so we'll need to parse it and convert the timestamp."
   ]
  },
  {
   "cell_type": "code",
   "execution_count": null,
   "metadata": {},
   "outputs": [],
   "source": [
    "RAW_DATA_PATH = Path('../data/raw')\n",
    "ITEM_FILE = RAW_DATA_PATH / 'twisted_bow_1h.json'\n",
    "\n",
    "if not ITEM_FILE.exists():\n",
    "    print(f\"File not found: {ITEM_FILE}\")\n",
    "    print(\"Please run `python src/main.py collect` first.\")\n",
    "else:\n",
    "    # The API data is nested under a 'data' key\n",
    "    df_raw = pd.read_json(ITEM_FILE)\n",
    "    df = pd.json_normalize(df_raw['data'])\n",
    "    \n",
    "    # Convert unix timestamp to datetime and set as index\n",
    "    df['timestamp'] = pd.to_datetime(df['timestamp'], unit='s')\n",
    "    df = df.set_index('timestamp')\n",
    "    \n",
    "    print(df.info())\n",
    "    display(df.head())"
   ]
  },
  {
   "cell_type": "markdown",
   "metadata": {},
   "source": [
    "## Visualize Price Over Time\n",
    "\n",
    "A simple line plot is the best way to get a first look at the time series."
   ]
  },
  {
   "cell_type": "code",
   "execution_count": null,
   "metadata": {},
   "outputs": [],
   "source": [
    "if 'df' in locals():\n",
    "    # Let's create an average price column for simplicity\n",
    "    df['avgPrice'] = (df['avgHighPrice'] + df['avgLowPrice']) / 2\n",
    "\n",
    "    df['avgPrice'].plot(title='Twisted Bow Price Over Time')\n",
    "    plt.ylabel('Price (GP)')\n",
    "    plt.show()"
   ]
  },
  {
   "cell_type": "markdown",
   "metadata": {},
   "source": [
    "## Next Steps\n",
    "\n",
    "From here, you can:\n",
    "- Plot rolling averages to see trends.\n",
    "- Analyze price distribution with a histogram.\n",
    "- Check for seasonality (e.g., weekly or daily patterns)."
   ]
  }
 ],
 "metadata": {
  "kernelspec": {
   "display_name": "Python 3",
   "language": "python",
   "name": "python3"
  },
  "language_info": {
   "codemirror_mode": {
    "name": "ipython",
    "version": 3
   },
   "file_extension": ".py",
   "mimetype": "text/x-python",
   "name": "python",
   "nbconvert_exporter": "python",
   "pygments_lexer": "ipython3",
   "version": "3.9.7"
  }
 },
 "nbformat": 4,
 "nbformat_minor": 4
}
